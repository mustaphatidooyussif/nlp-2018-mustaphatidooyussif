{
 "cells": [
  {
   "cell_type": "code",
   "execution_count": 2,
   "metadata": {},
   "outputs": [],
   "source": [
    "# import argparse\n",
    "import random\n",
    "import numpy as np\n",
    "import pandas as pd\n",
    "from sklearn.feature_extraction.text import TfidfVectorizer"
   ]
  },
  {
   "cell_type": "markdown",
   "metadata": {},
   "source": [
    "Question answering class "
   ]
  },
  {
   "cell_type": "code",
   "execution_count": 13,
   "metadata": {},
   "outputs": [],
   "source": [
    "class QuestionAnswering(object):\n",
    "    \"\"\"Question answering model\n",
    "\n",
    "    This class predicts the answers to some given sets of questions. \"\"\"\n",
    "    def __init__(self, testfile = None):\n",
    "#         self.args = self.parse_arguments()   #works on commandline\n",
    "#         self.questions_file = self.args.questions_file  #works on commandline\n",
    "\n",
    "        self.train_questions =  self.read_dataset('Questions.txt')\n",
    "        self.test_questions = self.read_dataset(testfile)\n",
    "        self.answers = self.read_dataset('Answers.txt')\n",
    "\n",
    "    def getTask(self):\n",
    "        return self.args.task\n",
    "        \n",
    "    #Works on the commandline\n",
    "    def parse_arguments(self): #command line arguments parser\n",
    "        \"\"\"Commandline arguments parser: \n",
    "        Takes to command line arguements and returns the argument parser.\n",
    "        \"\"\"\n",
    "        parser = argparse.ArgumentParser()\n",
    "        parser.add_argument('task', help='task name: topic or answer')\n",
    "        parser.add_argument('questions_file', help='Guestions file e.g question_file.txt')\n",
    "        args = parser.parse_args()\n",
    "\n",
    "        return args\n",
    "\n",
    "    def cos_sim(self, a, b):\n",
    "        \"\"\"Takes 2 vectors a, b and returns the cosine similarity according \n",
    "        to the definition of the dot product\n",
    "        \"\"\"\n",
    "        dot_product = np.dot(a, b)\n",
    "        norm_a = np.linalg.norm(a)\n",
    "        norm_b = np.linalg.norm(b)\n",
    "        return dot_product / (norm_a * norm_b)\n",
    "\n",
    "    \n",
    "    def read_dataset(self, filename):\n",
    "        \"\"\"Takes string filename and returns a list of the read file content.\"\"\"\n",
    "        f = open(filename, 'rb')\n",
    "        data = []\n",
    "        for datum in f:\n",
    "            datum = datum.strip()\n",
    "            data.append(datum)\n",
    "\n",
    "        return data\n",
    "\n",
    "    def split_to_train_test(self, test_ratio = 0.20):\n",
    "\n",
    "        questions = self.train_questions\n",
    "        answers = self.test_questions\n",
    "\n",
    "        train_question = []\n",
    "        test_question = []\n",
    "        train_answers = []\n",
    "        test_answers = []\n",
    "\n",
    "        num_of_train_questions = int(len(questions) * (1-test_ratio)) \n",
    "        \n",
    "        #split the documents into testing and training dataset.\n",
    "        while len(train_question) < num_of_train_questions:  \n",
    "            index = random.randrange(20)  \n",
    "            train_question.append(questions.pop(index))  #randomly add documents to training document set\n",
    "            train_answers.append(answers.pop(index)) \n",
    "            \n",
    "        return train_question, train_answers, test_question, test_answers\n",
    "\n",
    "    def answer_questions_using_cosine_sim(self, questions = None):\n",
    "        vectorizer= TfidfVectorizer()\n",
    "        \n",
    "        if questions is None:\n",
    "            test_question = self.test_questions\n",
    "\n",
    "        #fit train questions\n",
    "        #transform trainset and change to array\n",
    "        X = vectorizer.fit(self.train_questions) \n",
    "        array = X.transform(self.train_questions).toarray()\n",
    "\n",
    "        ##transform testset and change to numpy array\n",
    "        test_array = X.transform(test_question).toarray() \n",
    "\n",
    "        answers = []\n",
    "        for i in range(len(test_question)):\n",
    "            max_value = 0\n",
    "            for j in range(len(self.train_questions)):\n",
    "                if max_value < self.cos_sim(array[j], test_array[i]):\n",
    "                    max_value = self.cos_sim(array[j], test_array[i])\n",
    "                    answer_index = j \n",
    "            answers.append(self.answers[answer_index])\n",
    "        return answers\n",
    "\n",
    "    def write_results(self, filename, answer_list):\n",
    "        \"\"\"Takes string file name, and list of strings and writes the \n",
    "        content of the list into a file with the specified file name.\"\"\"\n",
    "        with open(filename, 'w') as f:\n",
    "            for answer in answer_list:\n",
    "                f.write(str(answer) + \"\\n\")\n",
    "                "
   ]
  },
  {
   "cell_type": "code",
   "execution_count": 14,
   "metadata": {},
   "outputs": [
    {
     "name": "stdout",
     "output_type": "stream",
     "text": [
      "Enter test filename (e.g. test.txt): test_file.txt\n",
      "Enter task (e.g. qa, topic): qa\n"
     ]
    },
    {
     "name": "stderr",
     "output_type": "stream",
     "text": [
      "c:\\users\\mustapha\\appdata\\local\\programs\\python\\python37-32\\lib\\site-packages\\ipykernel_launcher.py:35: RuntimeWarning: invalid value encountered in double_scalars\n"
     ]
    }
   ],
   "source": [
    "\n",
    "def main():\n",
    "    testfile = input(\"Enter test filename (e.g. test.txt): \")\n",
    "    task = input(\"Enter task (e.g. qa, topic): \")\n",
    "    model = QuestionAnswering(testfile = testfile) \n",
    "    \n",
    "    if task.lower() == \"topic\":\n",
    "        print(\"Topic Modeling\")\n",
    "    elif task.lower() == \"qa\":\n",
    "        answer = model.answer_questions_using_cosine_sim()\n",
    "#         print(answer)\n",
    "        model.write_results(\"qa_results.txt\", answer)\n",
    "    else:\n",
    "        raise Exception(\"Program does not support the requested task\")\n",
    "\n",
    "main()\n"
   ]
  }
 ],
 "metadata": {
  "kernelspec": {
   "display_name": "Python 3",
   "language": "python",
   "name": "python3"
  },
  "language_info": {
   "codemirror_mode": {
    "name": "ipython",
    "version": 3
   },
   "file_extension": ".py",
   "mimetype": "text/x-python",
   "name": "python",
   "nbconvert_exporter": "python",
   "pygments_lexer": "ipython3",
   "version": "3.7.0"
  }
 },
 "nbformat": 4,
 "nbformat_minor": 2
}
